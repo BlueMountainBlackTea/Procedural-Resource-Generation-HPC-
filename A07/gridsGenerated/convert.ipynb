{
 "cells": [
  {
   "cell_type": "code",
   "execution_count": 1,
   "id": "aa4e658a-feb7-44a5-bd84-b116c80b8e4d",
   "metadata": {},
   "outputs": [
    {
     "name": "stdout",
     "output_type": "stream",
     "text": [
      "Converted img_serial.ppm to JPG successfully.\n",
      "Converted img_1.ppm to JPG successfully.\n",
      "Converted img_2.ppm to JPG successfully.\n",
      "Converted img_4.ppm to JPG successfully.\n",
      "Converted img_6.ppm to JPG successfully.\n",
      "Converted img_8.ppm to JPG successfully.\n",
      "Converted img_10.ppm to JPG successfully.\n",
      "Converted img_12.ppm to JPG successfully.\n",
      "Converted img_16.ppm to JPG successfully.\n",
      "Converted img_20.ppm to JPG successfully.\n",
      "Converted img_32.ppm to JPG successfully.\n",
      "Converted img_64.ppm to JPG successfully.\n"
     ]
    }
   ],
   "source": [
    "from PIL import Image\n",
    "import os\n",
    "\n",
    "# Directory containing your PPM files\n",
    "directory = r\"C:\\Users\\crfve\\Desktop\\Works\\HPCworks\\A07\\gridsGenerated\"\n",
    "\n",
    "# List of PPM files to convert\n",
    "ppm_files = [\n",
    "    \"img_serial.ppm\", \"img_1.ppm\", \"img_2.ppm\", \"img_4.ppm\", \"img_6.ppm\", \"img_8.ppm\",\n",
    "    \"img_10.ppm\", \"img_12.ppm\", \"img_16.ppm\", \"img_20.ppm\", \"img_32.ppm\", \"img_64.ppm\"\n",
    "]\n",
    "\n",
    "# Convert each PPM file to JPG\n",
    "for file_name in ppm_files:\n",
    "    ppm_path = os.path.join(directory, file_name)\n",
    "    jpg_path = os.path.join(directory, file_name.replace(\".ppm\", \".jpg\"))\n",
    "\n",
    "    try:\n",
    "        with Image.open(ppm_path) as img:\n",
    "            rgb_img = img.convert(\"RGB\")  # Ensure it's in RGB mode for JPEG\n",
    "            rgb_img.save(jpg_path, \"JPEG\")\n",
    "        print(f\"Converted {file_name} to JPG successfully.\")\n",
    "    except Exception as e:\n",
    "        print(f\"Failed to convert {file_name}: {e}\")\n"
   ]
  }
 ],
 "metadata": {
  "kernelspec": {
   "display_name": "Python 3 (ipykernel)",
   "language": "python",
   "name": "python3"
  },
  "language_info": {
   "codemirror_mode": {
    "name": "ipython",
    "version": 3
   },
   "file_extension": ".py",
   "mimetype": "text/x-python",
   "name": "python",
   "nbconvert_exporter": "python",
   "pygments_lexer": "ipython3",
   "version": "3.9.1"
  }
 },
 "nbformat": 4,
 "nbformat_minor": 5
}
