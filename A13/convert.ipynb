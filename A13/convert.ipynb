{
 "cells": [
  {
   "cell_type": "code",
   "execution_count": 13,
   "id": "aa4e658a-feb7-44a5-bd84-b116c80b8e4d",
   "metadata": {},
   "outputs": [
    {
     "name": "stdout",
     "output_type": "stream",
     "text": [
      "here\n",
      "Failed to convert 01.ppm: [Errno 2] No such file or directory: 'C:\\\\Users\\\\crfve\\\\Desktop\\\\Works\\\\HPCworks\\\\A13\\\\01.jpeg'\n"
     ]
    }
   ],
   "source": [
    "from PIL import Image\n",
    "import os\n",
    "\n",
    "# Directory containing your PPM files\n",
    "directory = r\"C:\\Users\\crfve\\Desktop\\Works\\HPCworks\\A13\"\n",
    "\n",
    "# List of PPM files to convert\n",
    "ppm_files = [\n",
    "    \"cuda_output(13).ppm\", \"cuda_output(15).ppm\", \"cuda_output(16).ppm\", \n",
    "    \"cuda_output(17).ppm\", \"cuda_output(18).ppm\", \"cuda_output(19).ppm\", \n",
    "    \"cuda_output(20).ppm\", \"cuda_output(21).ppm\", \"cuda_output(23).ppm\"\n",
    "]\n",
    "\n",
    "# Convert each PPM file to JPG\n",
    "for file_name in ppm_files:\n",
    "    ppm_path = os.path.join(directory, file_name)\n",
    "    jpg_path = os.path.join(directory, file_name.replace(\".ppm\", \".jpeg\"))\n",
    "\n",
    "    try:\n",
    "        with Image.open(ppm_path) as img:\n",
    "            rgb_img = img.convert(\"RGB\")  # Ensure it's in RGB mode for JPEG\n",
    "            rgb_img.save(jpg_path, \"JPEG\")\n",
    "        print(f\"Converted {file_name} to JPG successfully.\")\n",
    "    except Exception as e:\n",
    "        print(f\"Failed to convert {file_name}: {e}\")"
   ]
  }
 ],
 "metadata": {
  "kernelspec": {
   "display_name": "Python 3 (ipykernel)",
   "language": "python",
   "name": "python3"
  },
  "language_info": {
   "codemirror_mode": {
    "name": "ipython",
    "version": 3
   },
   "file_extension": ".py",
   "mimetype": "text/x-python",
   "name": "python",
   "nbconvert_exporter": "python",
   "pygments_lexer": "ipython3",
   "version": "3.9.1"
  }
 },
 "nbformat": 4,
 "nbformat_minor": 5
}
